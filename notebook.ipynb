{
 "cells": [
  {
   "cell_type": "code",
   "execution_count": 12,
   "metadata": {},
   "outputs": [
    {
     "name": "stdout",
     "output_type": "stream",
     "text": [
      "User: hi !\n",
      "Bot: Hello!\n",
      "User: who are you ?\n",
      "Bot: I'm a chatbot designed to assist you!\n",
      "User: I want to ride a horse\n",
      "Bot: Horses require regular grooming, balanced nutrition, and exercise to stay healthy.\n",
      "User: wanna play basketball\n",
      "Bot: Notable players are Michael Jordan, LeBron James, and Kobe Bryant.\n",
      "User: bye\n",
      "Bot: Take care!\n"
     ]
    }
   ],
   "source": [
    "%run v1.py # Bag of words with simple Pytorch Neural Network"
   ]
  },
  {
   "cell_type": "code",
   "execution_count": 9,
   "metadata": {},
   "outputs": [
    {
     "name": "stderr",
     "output_type": "stream",
     "text": [
      "C:\\Users\\delah\\Documents\\GitHub\\AI-Chatbot\\v2.py:132: FutureWarning: You are using `torch.load` with `weights_only=False` (the current default value), which uses the default pickle module implicitly. It is possible to construct malicious pickle data which will execute arbitrary code during unpickling (See https://github.com/pytorch/pytorch/blob/main/SECURITY.md#untrusted-models for more details). In a future release, the default value for `weights_only` will be flipped to `True`. This limits the functions that could be executed during unpickling. Arbitrary objects will no longer be allowed to be loaded via this mode unless they are explicitly allowlisted by the user via `torch.serialization.add_safe_globals`. We recommend you start setting `weights_only=True` for any use case where you don't have full control of the loaded file. Please open an issue on GitHub for any issues related to this experimental feature.\n",
      "  self.model.load_state_dict(torch.load(model_path))\n"
     ]
    },
    {
     "name": "stdout",
     "output_type": "stream",
     "text": [
      "User: Hello !\n",
      "Bot: Hello!\n",
      "User: I feel bad\n",
      "Bot: I'm sorry to hear that. Can you describe the issue?\n",
      "User: I want to adopt a Lion\n",
      "Bot: Lions live in groups called prides and primarily inhabit savannas and grasslands.\n",
      "User: or maybe a zebra\n",
      "Bot: They inhabit the grasslands and savannas of Africa.\n",
      "User: I also play video Games\n",
      "Bot: Gaming consoles include PlayStation, Xbox, Nintendo Switch, and PC.\n",
      "User: I want to read a book\n",
      "Bot: You might enjoy 'To Kill a Mockingbird', '1984', or 'The Great Gatsby'.\n",
      "User: or maybe watch a movie\n",
      "Bot: Some great movies include The Dark Knight, Forrest Gump, and Interstellar.\n",
      "User: goodbye !\n",
      "Bot: Bye! Come back soon!\n"
     ]
    }
   ],
   "source": [
    "%run v2.py # SBERT and simple Pytorch Neural Network"
   ]
  },
  {
   "cell_type": "code",
   "execution_count": 4,
   "metadata": {},
   "outputs": [
    {
     "name": "stderr",
     "output_type": "stream",
     "text": [
      "WARNING:absl:Compiled the loaded model, but the compiled metrics have yet to be built. `model.compile_metrics` will be empty until you train or evaluate the model.\n"
     ]
    },
    {
     "name": "stdout",
     "output_type": "stream",
     "text": [
      "User: hi buddy !\n",
      "Bot: Hey! How can I assist you today?\n",
      "User: who are u ?\n",
      "Bot: I'm a chatbot designed to assist you!\n",
      "User: do you watch ice hockey ?\n",
      "Bot: Popular NHL teams include the Toronto Maple Leafs, Boston Bruins, and Montreal Canadiens.\n",
      "User: what about nba ?\n",
      "Bot: Notable players are Michael Jordan, LeBron James, and Kobe Bryant.\n",
      "User: I'm sad\n",
      "Bot: I'm here to help. Can you provide more details?\n",
      "User: what do you know about humans ?\n",
      "Bot: The average human lifespan is currently around 72 years globally.\n",
      "User: suggest a movie\n",
      "Bot: You should watch Inception, The Shawshank Redemption, or The Godfather.\n",
      "User: and know a book\n",
      "Bot: You might enjoy 'To Kill a Mockingbird', '1984', or 'The Great Gatsby'.\n",
      "User: bye\n",
      "Bot: Take care!\n"
     ]
    }
   ],
   "source": [
    "%run v3.py # SBERT and simple Tensorflow Neural Network"
   ]
  },
  {
   "cell_type": "code",
   "execution_count": null,
   "metadata": {},
   "outputs": [],
   "source": []
  }
 ],
 "metadata": {
  "kernelspec": {
   "display_name": "GPTK",
   "language": "python",
   "name": "python3"
  },
  "language_info": {
   "codemirror_mode": {
    "name": "ipython",
    "version": 3
   },
   "file_extension": ".py",
   "mimetype": "text/x-python",
   "name": "python",
   "nbconvert_exporter": "python",
   "pygments_lexer": "ipython3",
   "version": "3.12.5"
  }
 },
 "nbformat": 4,
 "nbformat_minor": 2
}
