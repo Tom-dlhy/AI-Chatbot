{
 "cells": [
  {
   "cell_type": "code",
   "execution_count": 1,
   "metadata": {},
   "outputs": [],
   "source": [
    "import numpy as np\n",
    "import json\n",
    "import pandas as pd\n",
    "import chardet\n"
   ]
  },
  {
   "cell_type": "markdown",
   "metadata": {},
   "source": [
    "### Kaggle DataSet"
   ]
  },
  {
   "cell_type": "code",
   "execution_count": 35,
   "metadata": {},
   "outputs": [
    {
     "data": {
      "text/html": [
       "<div>\n",
       "<style scoped>\n",
       "    .dataframe tbody tr th:only-of-type {\n",
       "        vertical-align: middle;\n",
       "    }\n",
       "\n",
       "    .dataframe tbody tr th {\n",
       "        vertical-align: top;\n",
       "    }\n",
       "\n",
       "    .dataframe thead th {\n",
       "        text-align: right;\n",
       "    }\n",
       "</style>\n",
       "<table border=\"1\" class=\"dataframe\">\n",
       "  <thead>\n",
       "    <tr style=\"text-align: right;\">\n",
       "      <th></th>\n",
       "      <th>utterance</th>\n",
       "      <th>category</th>\n",
       "      <th>intent</th>\n",
       "    </tr>\n",
       "  </thead>\n",
       "  <tbody>\n",
       "    <tr>\n",
       "      <th>0</th>\n",
       "      <td>I have problems with canceling an order</td>\n",
       "      <td>ORDER</td>\n",
       "      <td>cancel_order</td>\n",
       "    </tr>\n",
       "    <tr>\n",
       "      <th>1</th>\n",
       "      <td>how can I find information about canceling ord...</td>\n",
       "      <td>ORDER</td>\n",
       "      <td>cancel_order</td>\n",
       "    </tr>\n",
       "    <tr>\n",
       "      <th>2</th>\n",
       "      <td>I need help with canceling the last order</td>\n",
       "      <td>ORDER</td>\n",
       "      <td>cancel_order</td>\n",
       "    </tr>\n",
       "    <tr>\n",
       "      <th>3</th>\n",
       "      <td>could you help me cancelling the last order I ...</td>\n",
       "      <td>ORDER</td>\n",
       "      <td>cancel_order</td>\n",
       "    </tr>\n",
       "    <tr>\n",
       "      <th>4</th>\n",
       "      <td>problem with cancelling an order I made</td>\n",
       "      <td>ORDER</td>\n",
       "      <td>cancel_order</td>\n",
       "    </tr>\n",
       "  </tbody>\n",
       "</table>\n",
       "</div>"
      ],
      "text/plain": [
       "                                           utterance category        intent\n",
       "0            I have problems with canceling an order    ORDER  cancel_order\n",
       "1  how can I find information about canceling ord...    ORDER  cancel_order\n",
       "2          I need help with canceling the last order    ORDER  cancel_order\n",
       "3  could you help me cancelling the last order I ...    ORDER  cancel_order\n",
       "4            problem with cancelling an order I made    ORDER  cancel_order"
      ]
     },
     "execution_count": 35,
     "metadata": {},
     "output_type": "execute_result"
    }
   ],
   "source": [
    "df = pd.read_csv('Bitext_Sample_Customer_Service_Training_Dataset.csv', encoding='utf-8')\n",
    "df = df.drop(columns=['flags'])\n",
    "df.head()"
   ]
  },
  {
   "cell_type": "code",
   "execution_count": 36,
   "metadata": {},
   "outputs": [
    {
     "name": "stdout",
     "output_type": "stream",
     "text": [
      "<class 'pandas.core.frame.DataFrame'>\n",
      "RangeIndex: 8175 entries, 0 to 8174\n",
      "Data columns (total 3 columns):\n",
      " #   Column     Non-Null Count  Dtype \n",
      "---  ------     --------------  ----- \n",
      " 0   utterance  8175 non-null   object\n",
      " 1   category   8175 non-null   object\n",
      " 2   intent     8175 non-null   object\n",
      "dtypes: object(3)\n",
      "memory usage: 191.7+ KB\n"
     ]
    }
   ],
   "source": [
    "df.info()"
   ]
  },
  {
   "cell_type": "code",
   "execution_count": 37,
   "metadata": {},
   "outputs": [
    {
     "data": {
      "text/html": [
       "<div>\n",
       "<style scoped>\n",
       "    .dataframe tbody tr th:only-of-type {\n",
       "        vertical-align: middle;\n",
       "    }\n",
       "\n",
       "    .dataframe tbody tr th {\n",
       "        vertical-align: top;\n",
       "    }\n",
       "\n",
       "    .dataframe thead th {\n",
       "        text-align: right;\n",
       "    }\n",
       "</style>\n",
       "<table border=\"1\" class=\"dataframe\">\n",
       "  <thead>\n",
       "    <tr style=\"text-align: right;\">\n",
       "      <th></th>\n",
       "      <th>utterance</th>\n",
       "      <th>category</th>\n",
       "      <th>intent</th>\n",
       "    </tr>\n",
       "  </thead>\n",
       "  <tbody>\n",
       "    <tr>\n",
       "      <th>0</th>\n",
       "      <td>I have problems with canceling an order</td>\n",
       "      <td>ORDER</td>\n",
       "      <td>cancel_order</td>\n",
       "    </tr>\n",
       "    <tr>\n",
       "      <th>1</th>\n",
       "      <td>how can I find information about canceling ord...</td>\n",
       "      <td>ORDER</td>\n",
       "      <td>cancel_order</td>\n",
       "    </tr>\n",
       "    <tr>\n",
       "      <th>2</th>\n",
       "      <td>I need help with canceling the last order</td>\n",
       "      <td>ORDER</td>\n",
       "      <td>cancel_order</td>\n",
       "    </tr>\n",
       "    <tr>\n",
       "      <th>3</th>\n",
       "      <td>could you help me cancelling the last order I ...</td>\n",
       "      <td>ORDER</td>\n",
       "      <td>cancel_order</td>\n",
       "    </tr>\n",
       "    <tr>\n",
       "      <th>4</th>\n",
       "      <td>problem with cancelling an order I made</td>\n",
       "      <td>ORDER</td>\n",
       "      <td>cancel_order</td>\n",
       "    </tr>\n",
       "  </tbody>\n",
       "</table>\n",
       "</div>"
      ],
      "text/plain": [
       "                                           utterance category        intent\n",
       "0            I have problems with canceling an order    ORDER  cancel_order\n",
       "1  how can I find information about canceling ord...    ORDER  cancel_order\n",
       "2          I need help with canceling the last order    ORDER  cancel_order\n",
       "3  could you help me cancelling the last order I ...    ORDER  cancel_order\n",
       "4            problem with cancelling an order I made    ORDER  cancel_order"
      ]
     },
     "execution_count": 37,
     "metadata": {},
     "output_type": "execute_result"
    }
   ],
   "source": [
    "order_df = df[df['category'] == 'ORDER']\n",
    "order_df.head()"
   ]
  },
  {
   "cell_type": "code",
   "execution_count": 38,
   "metadata": {},
   "outputs": [
    {
     "name": "stdout",
     "output_type": "stream",
     "text": [
      "27\n"
     ]
    }
   ],
   "source": [
    "print(df['intent'].nunique())"
   ]
  },
  {
   "cell_type": "code",
   "execution_count": 30,
   "metadata": {},
   "outputs": [
    {
     "name": "stdout",
     "output_type": "stream",
     "text": [
      "4\n"
     ]
    }
   ],
   "source": [
    "print(order_df['intent'].nunique())"
   ]
  },
  {
   "cell_type": "code",
   "execution_count": 111,
   "metadata": {},
   "outputs": [],
   "source": [
    "# Création d'une DataFrame vide\n",
    "new_df = pd.DataFrame(columns=['patterns', 'tag', 'responses']) "
   ]
  },
  {
   "cell_type": "code",
   "execution_count": 112,
   "metadata": {},
   "outputs": [
    {
     "data": {
      "text/html": [
       "<div>\n",
       "<style scoped>\n",
       "    .dataframe tbody tr th:only-of-type {\n",
       "        vertical-align: middle;\n",
       "    }\n",
       "\n",
       "    .dataframe tbody tr th {\n",
       "        vertical-align: top;\n",
       "    }\n",
       "\n",
       "    .dataframe thead th {\n",
       "        text-align: right;\n",
       "    }\n",
       "</style>\n",
       "<table border=\"1\" class=\"dataframe\">\n",
       "  <thead>\n",
       "    <tr style=\"text-align: right;\">\n",
       "      <th></th>\n",
       "      <th>patterns</th>\n",
       "      <th>tag</th>\n",
       "      <th>responses</th>\n",
       "    </tr>\n",
       "  </thead>\n",
       "  <tbody>\n",
       "  </tbody>\n",
       "</table>\n",
       "</div>"
      ],
      "text/plain": [
       "Empty DataFrame\n",
       "Columns: [patterns, tag, responses]\n",
       "Index: []"
      ]
     },
     "execution_count": 112,
     "metadata": {},
     "output_type": "execute_result"
    }
   ],
   "source": [
    "new_df.head()"
   ]
  },
  {
   "cell_type": "code",
   "execution_count": 113,
   "metadata": {},
   "outputs": [],
   "source": [
    "\n",
    "intent = []\n",
    "\n",
    "for i in range(len(df)):\n",
    "    current_intent = df.intent.iloc[i]\n",
    "    \n",
    "    if current_intent not in intent:\n",
    "        intent.append(current_intent)\n",
    "        new_df.loc[len(new_df)] = [[df.utterance.iloc[i]], df.category.iloc[i], current_intent]\n",
    "    else:\n",
    "        index = new_df.index[new_df.responses == current_intent].tolist()\n",
    "        if index:\n",
    "            new_df.at[index[0], 'patterns'].append(df.utterance.iloc[i])\n"
   ]
  },
  {
   "cell_type": "code",
   "execution_count": 114,
   "metadata": {},
   "outputs": [
    {
     "data": {
      "text/html": [
       "<div>\n",
       "<style scoped>\n",
       "    .dataframe tbody tr th:only-of-type {\n",
       "        vertical-align: middle;\n",
       "    }\n",
       "\n",
       "    .dataframe tbody tr th {\n",
       "        vertical-align: top;\n",
       "    }\n",
       "\n",
       "    .dataframe thead th {\n",
       "        text-align: right;\n",
       "    }\n",
       "</style>\n",
       "<table border=\"1\" class=\"dataframe\">\n",
       "  <thead>\n",
       "    <tr style=\"text-align: right;\">\n",
       "      <th></th>\n",
       "      <th>patterns</th>\n",
       "      <th>tag</th>\n",
       "      <th>responses</th>\n",
       "    </tr>\n",
       "  </thead>\n",
       "  <tbody>\n",
       "    <tr>\n",
       "      <th>0</th>\n",
       "      <td>[I have problems with canceling an order, how ...</td>\n",
       "      <td>ORDER</td>\n",
       "      <td>cancel_order</td>\n",
       "    </tr>\n",
       "    <tr>\n",
       "      <th>1</th>\n",
       "      <td>[can you help me to add something to an order?...</td>\n",
       "      <td>ORDER</td>\n",
       "      <td>change_order</td>\n",
       "    </tr>\n",
       "    <tr>\n",
       "      <th>2</th>\n",
       "      <td>[I have an error correcting the shipping addre...</td>\n",
       "      <td>SHIPPING_ADDRESS</td>\n",
       "      <td>change_shipping_address</td>\n",
       "    </tr>\n",
       "    <tr>\n",
       "      <th>3</th>\n",
       "      <td>[I don't know what I need to do to check the e...</td>\n",
       "      <td>CANCELLATION_FEE</td>\n",
       "      <td>check_cancellation_fee</td>\n",
       "    </tr>\n",
       "    <tr>\n",
       "      <th>4</th>\n",
       "      <td>[I do not know how I can find the invoice from...</td>\n",
       "      <td>INVOICE</td>\n",
       "      <td>check_invoice</td>\n",
       "    </tr>\n",
       "  </tbody>\n",
       "</table>\n",
       "</div>"
      ],
      "text/plain": [
       "                                            patterns               tag  \\\n",
       "0  [I have problems with canceling an order, how ...             ORDER   \n",
       "1  [can you help me to add something to an order?...             ORDER   \n",
       "2  [I have an error correcting the shipping addre...  SHIPPING_ADDRESS   \n",
       "3  [I don't know what I need to do to check the e...  CANCELLATION_FEE   \n",
       "4  [I do not know how I can find the invoice from...           INVOICE   \n",
       "\n",
       "                 responses  \n",
       "0             cancel_order  \n",
       "1             change_order  \n",
       "2  change_shipping_address  \n",
       "3   check_cancellation_fee  \n",
       "4            check_invoice  "
      ]
     },
     "execution_count": 114,
     "metadata": {},
     "output_type": "execute_result"
    }
   ],
   "source": [
    "new_df.head()"
   ]
  },
  {
   "cell_type": "code",
   "execution_count": 115,
   "metadata": {},
   "outputs": [
    {
     "name": "stdout",
     "output_type": "stream",
     "text": [
      "<class 'pandas.core.frame.DataFrame'>\n",
      "Index: 27 entries, 0 to 26\n",
      "Data columns (total 3 columns):\n",
      " #   Column     Non-Null Count  Dtype \n",
      "---  ------     --------------  ----- \n",
      " 0   patterns   27 non-null     object\n",
      " 1   tag        27 non-null     object\n",
      " 2   responses  27 non-null     object\n",
      "dtypes: object(3)\n",
      "memory usage: 1.9+ KB\n"
     ]
    }
   ],
   "source": [
    "new_df.info()"
   ]
  },
  {
   "cell_type": "code",
   "execution_count": 116,
   "metadata": {},
   "outputs": [
    {
     "name": "stdout",
     "output_type": "stream",
     "text": [
      "11\n"
     ]
    }
   ],
   "source": [
    "print(new_df['tag'].nunique())"
   ]
  },
  {
   "cell_type": "code",
   "execution_count": 93,
   "metadata": {},
   "outputs": [
    {
     "data": {
      "text/html": [
       "<div>\n",
       "<style scoped>\n",
       "    .dataframe tbody tr th:only-of-type {\n",
       "        vertical-align: middle;\n",
       "    }\n",
       "\n",
       "    .dataframe tbody tr th {\n",
       "        vertical-align: top;\n",
       "    }\n",
       "\n",
       "    .dataframe thead th {\n",
       "        text-align: right;\n",
       "    }\n",
       "</style>\n",
       "<table border=\"1\" class=\"dataframe\">\n",
       "  <thead>\n",
       "    <tr style=\"text-align: right;\">\n",
       "      <th></th>\n",
       "      <th>patterns</th>\n",
       "      <th>tag</th>\n",
       "      <th>response</th>\n",
       "    </tr>\n",
       "  </thead>\n",
       "  <tbody>\n",
       "    <tr>\n",
       "      <th>0</th>\n",
       "      <td>[help me changing to a new account, can ya hel...</td>\n",
       "      <td>ACCOUNT</td>\n",
       "      <td>switch_account</td>\n",
       "    </tr>\n",
       "    <tr>\n",
       "      <th>1</th>\n",
       "      <td>[I do not know how I could edit the informatio...</td>\n",
       "      <td>ACCOUNT</td>\n",
       "      <td>edit_account</td>\n",
       "    </tr>\n",
       "    <tr>\n",
       "      <th>2</th>\n",
       "      <td>[what do I have to do to report a registration...</td>\n",
       "      <td>ACCOUNT</td>\n",
       "      <td>registration_problems</td>\n",
       "    </tr>\n",
       "    <tr>\n",
       "      <th>3</th>\n",
       "      <td>[tell me about a forgotten password, where can...</td>\n",
       "      <td>ACCOUNT</td>\n",
       "      <td>recover_password</td>\n",
       "    </tr>\n",
       "    <tr>\n",
       "      <th>4</th>\n",
       "      <td>[I want assistance deleting my account, how ca...</td>\n",
       "      <td>ACCOUNT</td>\n",
       "      <td>delete_account</td>\n",
       "    </tr>\n",
       "  </tbody>\n",
       "</table>\n",
       "</div>"
      ],
      "text/plain": [
       "                                            patterns      tag  \\\n",
       "0  [help me changing to a new account, can ya hel...  ACCOUNT   \n",
       "1  [I do not know how I could edit the informatio...  ACCOUNT   \n",
       "2  [what do I have to do to report a registration...  ACCOUNT   \n",
       "3  [tell me about a forgotten password, where can...  ACCOUNT   \n",
       "4  [I want assistance deleting my account, how ca...  ACCOUNT   \n",
       "\n",
       "                response  \n",
       "0         switch_account  \n",
       "1           edit_account  \n",
       "2  registration_problems  \n",
       "3       recover_password  \n",
       "4         delete_account  "
      ]
     },
     "execution_count": 93,
     "metadata": {},
     "output_type": "execute_result"
    }
   ],
   "source": [
    "new_df = new_df.sort_values(by='tag')\n",
    "new_df = new_df.reset_index(drop=True)\n",
    "new_df.head()"
   ]
  },
  {
   "cell_type": "code",
   "execution_count": 94,
   "metadata": {},
   "outputs": [
    {
     "name": "stdout",
     "output_type": "stream",
     "text": [
      "<class 'pandas.core.frame.DataFrame'>\n",
      "RangeIndex: 27 entries, 0 to 26\n",
      "Data columns (total 3 columns):\n",
      " #   Column    Non-Null Count  Dtype \n",
      "---  ------    --------------  ----- \n",
      " 0   patterns  27 non-null     object\n",
      " 1   tag       27 non-null     object\n",
      " 2   response  27 non-null     object\n",
      "dtypes: object(3)\n",
      "memory usage: 780.0+ bytes\n"
     ]
    }
   ],
   "source": [
    "new_df.info()"
   ]
  },
  {
   "cell_type": "code",
   "execution_count": 126,
   "metadata": {},
   "outputs": [
    {
     "data": {
      "text/plain": [
       "array(['cancel_order', 'change_order', 'change_shipping_address',\n",
       "       'check_cancellation_fee', 'check_invoice', 'check_payment_methods',\n",
       "       'check_refund_policy', 'complaint', 'contact_customer_service',\n",
       "       'contact_human_agent', 'create_account', 'delete_account',\n",
       "       'delivery_options', 'delivery_period', 'edit_account',\n",
       "       'get_invoice', 'get_refund', 'newsletter_subscription',\n",
       "       'payment_issue', 'place_order', 'recover_password',\n",
       "       'registration_problems', 'review', 'set_up_shipping_address',\n",
       "       'switch_account', 'track_order', 'track_refund'], dtype=object)"
      ]
     },
     "execution_count": 126,
     "metadata": {},
     "output_type": "execute_result"
    }
   ],
   "source": [
    "rep = new_df.responses.unique()\n",
    "rep"
   ]
  },
  {
   "cell_type": "code",
   "execution_count": 128,
   "metadata": {},
   "outputs": [],
   "source": [
    "liste = []\n",
    "\n",
    "for i in range(len(new_df)):\n",
    "    a,b = new_df.tag.iloc[i], new_df.responses.iloc[i]\n",
    "    if b not in liste:\n",
    "        liste.append([a,b])"
   ]
  },
  {
   "cell_type": "code",
   "execution_count": 130,
   "metadata": {},
   "outputs": [
    {
     "name": "stdout",
     "output_type": "stream",
     "text": [
      "[['ORDER', 'cancel_order'], ['ORDER', 'change_order'], ['SHIPPING_ADDRESS', 'change_shipping_address'], ['CANCELLATION_FEE', 'check_cancellation_fee'], ['INVOICE', 'check_invoice'], ['PAYMENT', 'check_payment_methods'], ['REFUND', 'check_refund_policy'], ['FEEDBACK', 'complaint'], ['CONTACT', 'contact_customer_service'], ['CONTACT', 'contact_human_agent'], ['ACCOUNT', 'create_account'], ['ACCOUNT', 'delete_account'], ['DELIVERY', 'delivery_options'], ['DELIVERY', 'delivery_period'], ['ACCOUNT', 'edit_account'], ['INVOICE', 'get_invoice'], ['REFUND', 'get_refund'], ['NEWSLETTER', 'newsletter_subscription'], ['PAYMENT', 'payment_issue'], ['ORDER', 'place_order'], ['ACCOUNT', 'recover_password'], ['ACCOUNT', 'registration_problems'], ['FEEDBACK', 'review'], ['SHIPPING_ADDRESS', 'set_up_shipping_address'], ['ACCOUNT', 'switch_account'], ['ORDER', 'track_order'], ['REFUND', 'track_refund']]\n",
      "27\n"
     ]
    }
   ],
   "source": [
    "print(liste)\n",
    "print(len(liste))"
   ]
  },
  {
   "cell_type": "code",
   "execution_count": null,
   "metadata": {},
   "outputs": [
    {
     "name": "stdout",
     "output_type": "stream",
     "text": [
      "ORDER : cancel_order\n",
      "ORDER : change_order\n",
      "SHIPPING_ADDRESS : change_shipping_address\n",
      "CANCELLATION_FEE : check_cancellation_fee\n",
      "INVOICE : check_invoice\n",
      "PAYMENT : check_payment_methods\n",
      "REFUND : check_refund_policy\n",
      "FEEDBACK : complaint\n",
      "CONTACT : contact_customer_service\n",
      "CONTACT : contact_human_agent\n",
      "ACCOUNT : create_account\n",
      "ACCOUNT : delete_account\n",
      "DELIVERY : delivery_options\n",
      "DELIVERY : delivery_period\n",
      "ACCOUNT : edit_account\n",
      "INVOICE : get_invoice\n",
      "REFUND : get_refund\n",
      "NEWSLETTER : newsletter_subscription\n",
      "PAYMENT : payment_issue\n",
      "ORDER : place_order\n",
      "ACCOUNT : recover_password\n",
      "ACCOUNT : registration_problems\n",
      "FEEDBACK : review\n",
      "SHIPPING_ADDRESS : set_up_shipping_address\n",
      "ACCOUNT : switch_account\n",
      "ORDER : track_order\n",
      "REFUND : track_refund\n"
     ]
    }
   ],
   "source": [
    "\n",
    "couple = []\n",
    "for i in range(len(new_df)):\n",
    "    tag,rep = new_df.tag.iloc[i], new_df.responses.iloc[i]\n",
    "    if [tag, rep] not in couple:\n",
    "        print(f'{tag} : {rep}')\n",
    "        couple.append([tag, rep])a\n",
    "\n",
    "\n"
   ]
  },
  {
   "cell_type": "code",
   "execution_count": null,
   "metadata": {},
   "outputs": [
    {
     "name": "stdout",
     "output_type": "stream",
     "text": [
      "                                             patterns                 tag  \\\n",
      "0   [I have problems with canceling an order, how ...             ORDER_0   \n",
      "1   [can you help me to add something to an order?...             ORDER_1   \n",
      "2   [I have an error correcting the shipping addre...  SHIPPING_ADDRESS_0   \n",
      "3   [I don't know what I need to do to check the e...  CANCELLATION_FEE_0   \n",
      "4   [I do not know how I can find the invoice from...           INVOICE_0   \n",
      "5   [I need assistance seeing your available payme...           PAYMENT_0   \n",
      "6   [checking your refund policy, I don't know how...            REFUND_0   \n",
      "7   [I need to file a complaint, I want assistance...          FEEDBACK_0   \n",
      "8   [I have to check at what time I can call custo...           CONTACT_0   \n",
      "9   [help to contact an agent, speak to a goddamn ...           CONTACT_1   \n",
      "10  [how do i create a goddamn new account, i do n...           ACCOUNT_0   \n",
      "11  [I want assistance deleting my account, how ca...           ACCOUNT_1   \n",
      "12  [help me check what delivery options I can cho...          DELIVERY_0   \n",
      "13  [I want help checking when will my item arrive...          DELIVERY_1   \n",
      "14  [I do not know how I could edit the informatio...           ACCOUNT_2   \n",
      "15  [I need help to get the invoice from March, ho...           INVOICE_1   \n",
      "16  [how can I get a refund?, when will I get my m...            REFUND_1   \n",
      "17  [sign up to the company newsletter, where can ...        NEWSLETTER_0   \n",
      "18  [I don't know how I could report an issue with...           PAYMENT_1   \n",
      "19  [could you help me buying a few of your item?,...             ORDER_2   \n",
      "20  [tell me about a forgotten password, where can...           ACCOUNT_3   \n",
      "21  [what do I have to do to report a registration...           ACCOUNT_4   \n",
      "22  [where do I submit some feedback for your comp...          FEEDBACK_1   \n",
      "23  [how to set another shipping address up?, help...  SHIPPING_ADDRESS_1   \n",
      "24  [help me changing to a new account, can ya hel...           ACCOUNT_5   \n",
      "25  [is it possible to track the last order?, I ne...             ORDER_3   \n",
      "26  [assistance to check my refund status, I need ...            REFUND_2   \n",
      "\n",
      "                   responses  \n",
      "0               cancel_order  \n",
      "1               change_order  \n",
      "2    change_shipping_address  \n",
      "3     check_cancellation_fee  \n",
      "4              check_invoice  \n",
      "5      check_payment_methods  \n",
      "6        check_refund_policy  \n",
      "7                  complaint  \n",
      "8   contact_customer_service  \n",
      "9        contact_human_agent  \n",
      "10            create_account  \n",
      "11            delete_account  \n",
      "12          delivery_options  \n",
      "13           delivery_period  \n",
      "14              edit_account  \n",
      "15               get_invoice  \n",
      "16                get_refund  \n",
      "17   newsletter_subscription  \n",
      "18             payment_issue  \n",
      "19               place_order  \n",
      "20          recover_password  \n",
      "21     registration_problems  \n",
      "22                    review  \n",
      "23   set_up_shipping_address  \n",
      "24            switch_account  \n",
      "25               track_order  \n",
      "26              track_refund  \n"
     ]
    }
   ],
   "source": [
    "def update_unique_tags(df):\n",
    "    \"\"\"\n",
    "    Met à jour la colonne 'tag' de df afin que chaque couple (tag, responses)\n",
    "    soit unique en ajoutant un suffixe numérique. La fonction élimine aussi\n",
    "    les doublons exacts.\n",
    "    \"\"\"\n",
    "    # 1. Éliminer les doublons exacts sur les colonnes 'tag' et 'responses'\n",
    "    df_unique = df.drop_duplicates(subset=['tag', 'responses']).copy()\n",
    "    \n",
    "    # 2. Remplacer chaque tag par tag_suffix (ex : ORDER_0, ORDER_1, etc.)\n",
    "    tag_counts = {}  # Dictionnaire pour compter les occurrences de chaque tag d'origine\n",
    "    new_tags = []    # Liste pour stocker les nouveaux tags\n",
    "    \n",
    "    for idx, row in df_unique.iterrows():\n",
    "        original_tag = row['tag']\n",
    "        count = tag_counts.get(original_tag, 0)\n",
    "        # Construit le nouveau tag avec suffixe\n",
    "        new_tag = f\"{original_tag}_{count}\"\n",
    "        tag_counts[original_tag] = count + 1\n",
    "        new_tags.append(new_tag)\n",
    "    \n",
    "    df_unique['tag'] = new_tags\n",
    "    return df_unique\n",
    "\n",
    "new_df = update_unique_tags(new_df)\n"
   ]
  },
  {
   "cell_type": "code",
   "execution_count": 137,
   "metadata": {},
   "outputs": [
    {
     "data": {
      "text/html": [
       "<div>\n",
       "<style scoped>\n",
       "    .dataframe tbody tr th:only-of-type {\n",
       "        vertical-align: middle;\n",
       "    }\n",
       "\n",
       "    .dataframe tbody tr th {\n",
       "        vertical-align: top;\n",
       "    }\n",
       "\n",
       "    .dataframe thead th {\n",
       "        text-align: right;\n",
       "    }\n",
       "</style>\n",
       "<table border=\"1\" class=\"dataframe\">\n",
       "  <thead>\n",
       "    <tr style=\"text-align: right;\">\n",
       "      <th></th>\n",
       "      <th>patterns</th>\n",
       "      <th>tag</th>\n",
       "      <th>responses</th>\n",
       "    </tr>\n",
       "  </thead>\n",
       "  <tbody>\n",
       "    <tr>\n",
       "      <th>0</th>\n",
       "      <td>[I have problems with canceling an order, how ...</td>\n",
       "      <td>ORDER_0</td>\n",
       "      <td>cancel_order</td>\n",
       "    </tr>\n",
       "    <tr>\n",
       "      <th>1</th>\n",
       "      <td>[can you help me to add something to an order?...</td>\n",
       "      <td>ORDER_1</td>\n",
       "      <td>change_order</td>\n",
       "    </tr>\n",
       "    <tr>\n",
       "      <th>2</th>\n",
       "      <td>[I have an error correcting the shipping addre...</td>\n",
       "      <td>SHIPPING_ADDRESS_0</td>\n",
       "      <td>change_shipping_address</td>\n",
       "    </tr>\n",
       "    <tr>\n",
       "      <th>3</th>\n",
       "      <td>[I don't know what I need to do to check the e...</td>\n",
       "      <td>CANCELLATION_FEE_0</td>\n",
       "      <td>check_cancellation_fee</td>\n",
       "    </tr>\n",
       "    <tr>\n",
       "      <th>4</th>\n",
       "      <td>[I do not know how I can find the invoice from...</td>\n",
       "      <td>INVOICE_0</td>\n",
       "      <td>check_invoice</td>\n",
       "    </tr>\n",
       "  </tbody>\n",
       "</table>\n",
       "</div>"
      ],
      "text/plain": [
       "                                            patterns                 tag  \\\n",
       "0  [I have problems with canceling an order, how ...             ORDER_0   \n",
       "1  [can you help me to add something to an order?...             ORDER_1   \n",
       "2  [I have an error correcting the shipping addre...  SHIPPING_ADDRESS_0   \n",
       "3  [I don't know what I need to do to check the e...  CANCELLATION_FEE_0   \n",
       "4  [I do not know how I can find the invoice from...           INVOICE_0   \n",
       "\n",
       "                 responses  \n",
       "0             cancel_order  \n",
       "1             change_order  \n",
       "2  change_shipping_address  \n",
       "3   check_cancellation_fee  \n",
       "4            check_invoice  "
      ]
     },
     "execution_count": 137,
     "metadata": {},
     "output_type": "execute_result"
    }
   ],
   "source": [
    "\n",
    "new_df.head()"
   ]
  },
  {
   "cell_type": "code",
   "execution_count": 138,
   "metadata": {},
   "outputs": [
    {
     "name": "stdout",
     "output_type": "stream",
     "text": [
      "27\n"
     ]
    }
   ],
   "source": [
    "print(new_df['tag'].nunique())"
   ]
  },
  {
   "cell_type": "code",
   "execution_count": 139,
   "metadata": {},
   "outputs": [
    {
     "name": "stdout",
     "output_type": "stream",
     "text": [
      "Le fichier JSON a été enregistré avec succès.\n"
     ]
    }
   ],
   "source": [
    "# Convertir la DataFrame en liste de dictionnaires\n",
    "intents_list = new_df.to_dict(orient=\"records\")\n",
    "\n",
    "# Créer le dictionnaire final avec la clé \"intents\"\n",
    "data = {\"intents\": intents_list}\n",
    "\n",
    "# Enregistrer dans un fichier JSON avec une indentation pour une meilleure lisibilité\n",
    "with open(\"intents2.json\", \"w\", encoding=\"utf-8\") as f:\n",
    "    json.dump(data, f, indent=4, ensure_ascii=False)\n",
    "\n",
    "print(\"Le fichier JSON a été enregistré avec succès.\")"
   ]
  },
  {
   "cell_type": "code",
   "execution_count": 118,
   "metadata": {},
   "outputs": [
    {
     "name": "stdout",
     "output_type": "stream",
     "text": [
      "Epoch 1, loss: 3.8539\n",
      "Epoch 2, loss: 3.5732\n",
      "Epoch 3, loss: 3.0902\n",
      "Epoch 4, loss: 2.5207\n",
      "Epoch 5, loss: 1.9892\n",
      "Epoch 6, loss: 1.6496\n",
      "Epoch 7, loss: 1.4498\n",
      "Epoch 8, loss: 1.2288\n",
      "Epoch 9, loss: 1.0142\n",
      "Epoch 10, loss: 0.9487\n",
      "Epoch 11, loss: 0.8306\n",
      "Epoch 12, loss: 0.7672\n",
      "Epoch 13, loss: 0.6731\n",
      "Epoch 14, loss: 0.6255\n",
      "Epoch 15, loss: 0.6257\n",
      "Epoch 16, loss: 0.5798\n",
      "Epoch 17, loss: 0.4763\n",
      "Epoch 18, loss: 0.4631\n",
      "Epoch 19, loss: 0.4823\n",
      "Epoch 20, loss: 0.4624\n",
      "Epoch 21, loss: 0.4327\n",
      "Epoch 22, loss: 0.4510\n",
      "Epoch 23, loss: 0.3829\n",
      "Epoch 24, loss: 0.3493\n",
      "Epoch 25, loss: 0.3082\n",
      "Epoch 26, loss: 0.2984\n",
      "Epoch 27, loss: 0.3400\n",
      "Epoch 28, loss: 0.3007\n",
      "Epoch 29, loss: 0.3345\n",
      "Epoch 30, loss: 0.2880\n",
      "Epoch 31, loss: 0.3056\n",
      "Epoch 32, loss: 0.2652\n",
      "Epoch 33, loss: 0.2582\n",
      "Epoch 34, loss: 0.2768\n",
      "Epoch 35, loss: 0.2639\n",
      "Epoch 36, loss: 0.2690\n",
      "Epoch 37, loss: 0.2220\n",
      "Epoch 38, loss: 0.1954\n",
      "Epoch 39, loss: 0.2243\n",
      "Epoch 40, loss: 0.2475\n",
      "Epoch 41, loss: 0.2273\n",
      "Epoch 42, loss: 0.2174\n",
      "Epoch 43, loss: 0.1960\n",
      "Epoch 44, loss: 0.1946\n",
      "Epoch 45, loss: 0.2218\n",
      "Epoch 46, loss: 0.1923\n",
      "Epoch 47, loss: 0.1701\n",
      "Epoch 48, loss: 0.2404\n",
      "Epoch 49, loss: 0.1951\n",
      "Epoch 50, loss: 0.2158\n",
      "Epoch 51, loss: 0.2144\n",
      "Epoch 52, loss: 0.2002\n",
      "Epoch 53, loss: 0.1625\n",
      "Epoch 54, loss: 0.1637\n",
      "Epoch 55, loss: 0.1774\n",
      "Epoch 56, loss: 0.1645\n",
      "Epoch 57, loss: 0.2059\n",
      "Epoch 58, loss: 0.1349\n",
      "Epoch 59, loss: 0.1659\n",
      "Epoch 60, loss: 0.1533\n",
      "Epoch 61, loss: 0.1662\n",
      "Epoch 62, loss: 0.1125\n",
      "Epoch 63, loss: 0.1392\n",
      "Epoch 64, loss: 0.1194\n",
      "Epoch 65, loss: 0.1552\n",
      "Epoch 66, loss: 0.1568\n",
      "Epoch 67, loss: 0.1615\n",
      "Epoch 68, loss: 0.1426\n",
      "Epoch 69, loss: 0.1590\n",
      "Epoch 70, loss: 0.1541\n",
      "Epoch 71, loss: 0.1422\n",
      "Epoch 72, loss: 0.1553\n",
      "Epoch 73, loss: 0.1400\n",
      "Epoch 74, loss: 0.1046\n",
      "Epoch 75, loss: 0.0883\n",
      "Epoch 76, loss: 0.1096\n",
      "Epoch 77, loss: 0.1293\n",
      "Epoch 78, loss: 0.1289\n",
      "Epoch 79, loss: 0.1666\n",
      "Epoch 80, loss: 0.1166\n",
      "Epoch 81, loss: 0.1084\n",
      "Epoch 82, loss: 0.1181\n",
      "Epoch 83, loss: 0.1805\n",
      "Epoch 84, loss: 0.0820\n",
      "Epoch 85, loss: 0.1326\n",
      "Epoch 86, loss: 0.1333\n",
      "Epoch 87, loss: 0.1024\n",
      "Epoch 88, loss: 0.1256\n",
      "Epoch 89, loss: 0.1376\n",
      "Epoch 90, loss: 0.1239\n",
      "Epoch 91, loss: 0.0984\n",
      "Epoch 92, loss: 0.1102\n",
      "Epoch 93, loss: 0.0909\n",
      "Epoch 94, loss: 0.1087\n",
      "Epoch 95, loss: 0.1330\n",
      "Epoch 96, loss: 0.0946\n",
      "Epoch 97, loss: 0.0988\n",
      "Epoch 98, loss: 0.0862\n",
      "Epoch 99, loss: 0.1389\n",
      "Epoch 100, loss: 0.1260\n",
      "Epoch 101, loss: 0.1447\n",
      "Epoch 102, loss: 0.1112\n",
      "Epoch 103, loss: 0.1090\n",
      "Epoch 104, loss: 0.1083\n",
      "Epoch 105, loss: 0.1585\n",
      "Epoch 106, loss: 0.1284\n",
      "Epoch 107, loss: 0.1688\n",
      "Epoch 108, loss: 0.1649\n",
      "Epoch 109, loss: 0.1275\n",
      "Epoch 110, loss: 0.0940\n",
      "Epoch 111, loss: 0.1231\n",
      "Epoch 112, loss: 0.0864\n",
      "Epoch 113, loss: 0.1373\n",
      "Epoch 114, loss: 0.0846\n",
      "Epoch 115, loss: 0.1193\n",
      "Epoch 116, loss: 0.1397\n",
      "Epoch 117, loss: 0.1582\n",
      "Epoch 118, loss: 0.1341\n",
      "Epoch 119, loss: 0.1254\n",
      "Epoch 120, loss: 0.1019\n",
      "Epoch 121, loss: 0.1311\n",
      "Epoch 122, loss: 0.1323\n",
      "Epoch 123, loss: 0.1019\n",
      "Epoch 124, loss: 0.1505\n",
      "Epoch 125, loss: 0.1044\n",
      "Epoch 126, loss: 0.1200\n",
      "Epoch 127, loss: 0.0868\n",
      "Epoch 128, loss: 0.0792\n",
      "Epoch 129, loss: 0.0885\n",
      "Epoch 130, loss: 0.1144\n",
      "Epoch 131, loss: 0.1114\n",
      "Epoch 132, loss: 0.0727\n",
      "Epoch 133, loss: 0.0821\n",
      "Epoch 134, loss: 0.0992\n",
      "Epoch 135, loss: 0.0838\n",
      "Epoch 136, loss: 0.0781\n",
      "Epoch 137, loss: 0.1104\n",
      "Epoch 138, loss: 0.1235\n",
      "Epoch 139, loss: 0.0953\n",
      "Epoch 140, loss: 0.1225\n",
      "Epoch 141, loss: 0.0913\n",
      "Epoch 142, loss: 0.0765\n",
      "Epoch 143, loss: 0.1156\n",
      "Epoch 144, loss: 0.1045\n",
      "Epoch 145, loss: 0.0749\n",
      "Epoch 146, loss: 0.1340\n",
      "Epoch 147, loss: 0.1004\n",
      "Epoch 148, loss: 0.1210\n",
      "Epoch 149, loss: 0.0821\n",
      "Epoch 150, loss: 0.0871\n",
      "Epoch 151, loss: 0.0953\n",
      "Epoch 152, loss: 0.0695\n",
      "Epoch 153, loss: 0.0982\n",
      "Epoch 154, loss: 0.0700\n",
      "Epoch 155, loss: 0.1130\n",
      "Epoch 156, loss: 0.0872\n",
      "Epoch 157, loss: 0.0791\n",
      "Epoch 158, loss: 0.0803\n",
      "Epoch 159, loss: 0.0908\n",
      "Epoch 160, loss: 0.1043\n",
      "Epoch 161, loss: 0.1151\n",
      "Epoch 162, loss: 0.0737\n",
      "Epoch 163, loss: 0.1408\n",
      "Epoch 164, loss: 0.0743\n",
      "Epoch 165, loss: 0.1118\n",
      "Epoch 166, loss: 0.0941\n",
      "Epoch 167, loss: 0.1446\n",
      "Epoch 168, loss: 0.0971\n",
      "Epoch 169, loss: 0.0740\n",
      "Epoch 170, loss: 0.0843\n",
      "Epoch 171, loss: 0.1021\n",
      "Epoch 172, loss: 0.0406\n",
      "Epoch 173, loss: 0.1476\n",
      "Epoch 174, loss: 0.1225\n",
      "Epoch 175, loss: 0.0799\n",
      "Epoch 176, loss: 0.0816\n",
      "Epoch 177, loss: 0.0926\n",
      "Epoch 178, loss: 0.1123\n",
      "Epoch 179, loss: 0.1177\n",
      "Epoch 180, loss: 0.0822\n",
      "Epoch 181, loss: 0.0942\n",
      "Epoch 182, loss: 0.0697\n",
      "Epoch 183, loss: 0.0730\n",
      "Epoch 184, loss: 0.0989\n",
      "Epoch 185, loss: 0.0960\n",
      "Epoch 186, loss: 0.1228\n",
      "Epoch 187, loss: 0.1012\n",
      "Epoch 188, loss: 0.0877\n",
      "Epoch 189, loss: 0.1209\n",
      "Epoch 190, loss: 0.1114\n",
      "Epoch 191, loss: 0.0691\n",
      "Epoch 192, loss: 0.0628\n",
      "Epoch 193, loss: 0.0935\n",
      "Epoch 194, loss: 0.1146\n",
      "Epoch 195, loss: 0.0897\n",
      "Epoch 196, loss: 0.0735\n",
      "Epoch 197, loss: 0.0996\n",
      "Epoch 198, loss: 0.0829\n",
      "Epoch 199, loss: 0.0940\n",
      "Epoch 200, loss: 0.0611\n"
     ]
    }
   ],
   "source": [
    "%run v4.py"
   ]
  },
  {
   "cell_type": "code",
   "execution_count": null,
   "metadata": {},
   "outputs": [
    {
     "name": "stderr",
     "output_type": "stream",
     "text": [
      "C:\\Users\\delah\\Documents\\GitHub\\AI-Chatbot\\v2.py:132: FutureWarning: You are using `torch.load` with `weights_only=False` (the current default value), which uses the default pickle module implicitly. It is possible to construct malicious pickle data which will execute arbitrary code during unpickling (See https://github.com/pytorch/pytorch/blob/main/SECURITY.md#untrusted-models for more details). In a future release, the default value for `weights_only` will be flipped to `True`. This limits the functions that could be executed during unpickling. Arbitrary objects will no longer be allowed to be loaded via this mode unless they are explicitly allowlisted by the user via `torch.serialization.add_safe_globals`. We recommend you start setting `weights_only=True` for any use case where you don't have full control of the loaded file. Please open an issue on GitHub for any issues related to this experimental feature.\n",
      "  self.model.load_state_dict(torch.load(model_path))\n"
     ]
    },
    {
     "name": "stdout",
     "output_type": "stream",
     "text": [
      "User: hey\n",
      "Bot: Hello!\n",
      "User: how are you buddy ?\n",
      "Bot: Yes, I'm an AI chatbot, how can I assist you?\n",
      "User: heya\n",
      "Bot: Hey! How can I assist you today?\n",
      "User: i fells bad about lions\n",
      "Bot: Famous lions include Simba from 'The Lion King' and Cecil the lion.\n"
     ]
    }
   ],
   "source": [
    "%run v2.py"
   ]
  },
  {
   "cell_type": "code",
   "execution_count": 122,
   "metadata": {},
   "outputs": [
    {
     "name": "stderr",
     "output_type": "stream",
     "text": [
      "C:\\Users\\delah\\Documents\\GitHub\\AI-Chatbot\\v2.py:132: FutureWarning: You are using `torch.load` with `weights_only=False` (the current default value), which uses the default pickle module implicitly. It is possible to construct malicious pickle data which will execute arbitrary code during unpickling (See https://github.com/pytorch/pytorch/blob/main/SECURITY.md#untrusted-models for more details). In a future release, the default value for `weights_only` will be flipped to `True`. This limits the functions that could be executed during unpickling. Arbitrary objects will no longer be allowed to be loaded via this mode unless they are explicitly allowlisted by the user via `torch.serialization.add_safe_globals`. We recommend you start setting `weights_only=True` for any use case where you don't have full control of the loaded file. Please open an issue on GitHub for any issues related to this experimental feature.\n",
      "  self.model.load_state_dict(torch.load(model_path))\n"
     ]
    },
    {
     "name": "stdout",
     "output_type": "stream",
     "text": [
      "User: \n",
      "Bot: Hey! How can I assist you today?\n",
      "User: sqlut\n",
      "Bot: They primarily inhabit savannahs and grasslands.\n",
      "User: salut ca va\n",
      "Bot: Hi there!\n",
      "User: do you watch nhl ?\n",
      "Bot: Popular NHL teams include the Toronto Maple Leafs, Boston Bruins, and Montreal Canadiens.\n"
     ]
    }
   ],
   "source": [
    "%run v2.py"
   ]
  },
  {
   "cell_type": "code",
   "execution_count": 146,
   "metadata": {},
   "outputs": [
    {
     "name": "stdout",
     "output_type": "stream",
     "text": [
      "Epoch 1, loss: 1.1991\n",
      "Epoch 2, loss: 0.3320\n",
      "Epoch 3, loss: 0.1959\n",
      "Epoch 4, loss: 0.1308\n",
      "Epoch 5, loss: 0.1107\n",
      "Epoch 6, loss: 0.0872\n",
      "Epoch 7, loss: 0.0772\n",
      "Epoch 8, loss: 0.0641\n",
      "Epoch 9, loss: 0.0699\n",
      "Epoch 10, loss: 0.0598\n",
      "Epoch 11, loss: 0.0584\n",
      "Epoch 12, loss: 0.0449\n",
      "Epoch 13, loss: 0.0482\n",
      "Epoch 14, loss: 0.0412\n",
      "Epoch 15, loss: 0.0418\n",
      "Epoch 16, loss: 0.0418\n",
      "Epoch 17, loss: 0.0422\n",
      "Epoch 18, loss: 0.0419\n",
      "Epoch 19, loss: 0.0361\n",
      "Epoch 20, loss: 0.0421\n",
      "Epoch 21, loss: 0.0343\n",
      "Epoch 22, loss: 0.0302\n",
      "Epoch 23, loss: 0.0386\n",
      "Epoch 24, loss: 0.0309\n",
      "Epoch 25, loss: 0.0424\n",
      "Epoch 26, loss: 0.0379\n",
      "Epoch 27, loss: 0.0361\n",
      "Epoch 28, loss: 0.0344\n",
      "Epoch 29, loss: 0.0338\n",
      "Epoch 30, loss: 0.0283\n",
      "Epoch 31, loss: 0.0325\n",
      "Epoch 32, loss: 0.0352\n",
      "Epoch 33, loss: 0.0321\n",
      "Epoch 34, loss: 0.0277\n",
      "Epoch 35, loss: 0.0341\n",
      "Epoch 36, loss: 0.0337\n",
      "Epoch 37, loss: 0.0310\n",
      "Epoch 38, loss: 0.0295\n",
      "Epoch 39, loss: 0.0323\n",
      "Epoch 40, loss: 0.0330\n",
      "Epoch 41, loss: 0.0369\n",
      "Epoch 42, loss: 0.0290\n",
      "Epoch 43, loss: 0.0320\n",
      "Epoch 44, loss: 0.0244\n",
      "Epoch 45, loss: 0.0266\n",
      "Epoch 46, loss: 0.0262\n",
      "Epoch 47, loss: 0.0341\n",
      "Epoch 48, loss: 0.0241\n",
      "Epoch 49, loss: 0.0309\n",
      "Epoch 50, loss: 0.0312\n",
      "User: I cannot reset my damn user account pwd\n",
      "Bot: recover_password\n",
      "User: I do not know how I could notify of registration problems\n",
      "Bot: registration_problems\n",
      "User: bud i've got some problems with my paswd\n",
      "Bot: complaint\n",
      "User: bud I've got some problems with mon mot de passe\n",
      "Bot: complaint\n",
      "User: problem\n",
      "Bot: complaint\n",
      "User: isse\n",
      "Bot: contact_human_agent\n"
     ]
    }
   ],
   "source": [
    "%run v4.py"
   ]
  },
  {
   "cell_type": "code",
   "execution_count": null,
   "metadata": {},
   "outputs": [],
   "source": []
  }
 ],
 "metadata": {
  "kernelspec": {
   "display_name": "NN",
   "language": "python",
   "name": "python3"
  },
  "language_info": {
   "codemirror_mode": {
    "name": "ipython",
    "version": 3
   },
   "file_extension": ".py",
   "mimetype": "text/x-python",
   "name": "python",
   "nbconvert_exporter": "python",
   "pygments_lexer": "ipython3",
   "version": "3.11.11"
  }
 },
 "nbformat": 4,
 "nbformat_minor": 2
}
